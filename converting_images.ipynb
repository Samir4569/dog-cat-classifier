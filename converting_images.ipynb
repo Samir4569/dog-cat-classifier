{
 "cells": [
  {
   "cell_type": "code",
   "execution_count": 8,
   "id": "a69ca5f6-f001-4e72-8921-e845736d19c7",
   "metadata": {
    "scrolled": true
   },
   "outputs": [
    {
     "name": "stdout",
     "output_type": "stream",
     "text": [
      "Collecting opencv-python\n",
      "  Downloading opencv_python-4.11.0.86-cp37-abi3-win_amd64.whl.metadata (20 kB)\n",
      "Requirement already satisfied: numpy>=1.21.2 in c:\\users\\samir\\anaconda3\\lib\\site-packages (from opencv-python) (1.26.4)\n",
      "Downloading opencv_python-4.11.0.86-cp37-abi3-win_amd64.whl (39.5 MB)\n",
      "   ---------------------------------------- 0.0/39.5 MB ? eta -:--:--\n",
      "   ---------------------------------------- 0.0/39.5 MB 640.0 kB/s eta 0:01:02\n",
      "   ---------------------------------------- 0.0/39.5 MB 393.8 kB/s eta 0:01:41\n",
      "   ---------------------------------------- 0.1/39.5 MB 819.2 kB/s eta 0:00:49\n",
      "   ---------------------------------------- 0.2/39.5 MB 1.1 MB/s eta 0:00:37\n",
      "   ---------------------------------------- 0.3/39.5 MB 1.2 MB/s eta 0:00:34\n",
      "   ---------------------------------------- 0.4/39.5 MB 1.6 MB/s eta 0:00:25\n",
      "    --------------------------------------- 0.6/39.5 MB 1.8 MB/s eta 0:00:22\n",
      "    --------------------------------------- 0.9/39.5 MB 2.4 MB/s eta 0:00:16\n",
      "   - -------------------------------------- 1.1/39.5 MB 2.8 MB/s eta 0:00:14\n",
      "   - -------------------------------------- 1.6/39.5 MB 3.4 MB/s eta 0:00:12\n",
      "   - -------------------------------------- 1.8/39.5 MB 3.6 MB/s eta 0:00:11\n",
      "   -- ------------------------------------- 2.2/39.5 MB 4.1 MB/s eta 0:00:10\n",
      "   -- ------------------------------------- 2.5/39.5 MB 4.3 MB/s eta 0:00:09\n",
      "   -- ------------------------------------- 2.9/39.5 MB 4.4 MB/s eta 0:00:09\n",
      "   --- ------------------------------------ 3.2/39.5 MB 4.5 MB/s eta 0:00:09\n",
      "   --- ------------------------------------ 3.5/39.5 MB 4.7 MB/s eta 0:00:08\n",
      "   --- ------------------------------------ 3.8/39.5 MB 4.7 MB/s eta 0:00:08\n",
      "   ---- ----------------------------------- 4.0/39.5 MB 4.8 MB/s eta 0:00:08\n",
      "   ---- ----------------------------------- 4.3/39.5 MB 4.8 MB/s eta 0:00:08\n",
      "   ---- ----------------------------------- 4.6/39.5 MB 4.9 MB/s eta 0:00:08\n",
      "   ---- ----------------------------------- 4.8/39.5 MB 5.0 MB/s eta 0:00:07\n",
      "   ----- ---------------------------------- 5.1/39.5 MB 4.9 MB/s eta 0:00:07\n",
      "   ----- ---------------------------------- 5.3/39.5 MB 5.0 MB/s eta 0:00:07\n",
      "   ----- ---------------------------------- 5.6/39.5 MB 5.0 MB/s eta 0:00:07\n",
      "   ----- ---------------------------------- 5.8/39.5 MB 5.0 MB/s eta 0:00:07\n",
      "   ------ --------------------------------- 6.0/39.5 MB 5.0 MB/s eta 0:00:07\n",
      "   ------ --------------------------------- 6.3/39.5 MB 5.1 MB/s eta 0:00:07\n",
      "   ------ --------------------------------- 6.6/39.5 MB 5.1 MB/s eta 0:00:07\n",
      "   ------ --------------------------------- 6.9/39.5 MB 5.1 MB/s eta 0:00:07\n",
      "   ------- -------------------------------- 7.1/39.5 MB 5.1 MB/s eta 0:00:07\n",
      "   ------- -------------------------------- 7.3/39.5 MB 5.0 MB/s eta 0:00:07\n",
      "   ------- -------------------------------- 7.7/39.5 MB 5.1 MB/s eta 0:00:07\n",
      "   -------- ------------------------------- 7.9/39.5 MB 5.1 MB/s eta 0:00:07\n",
      "   -------- ------------------------------- 8.2/39.5 MB 5.2 MB/s eta 0:00:07\n",
      "   -------- ------------------------------- 8.6/39.5 MB 5.2 MB/s eta 0:00:06\n",
      "   -------- ------------------------------- 8.8/39.5 MB 5.2 MB/s eta 0:00:06\n",
      "   --------- ------------------------------ 9.1/39.5 MB 5.2 MB/s eta 0:00:06\n",
      "   --------- ------------------------------ 9.2/39.5 MB 5.1 MB/s eta 0:00:06\n",
      "   --------- ------------------------------ 9.4/39.5 MB 5.1 MB/s eta 0:00:06\n",
      "   --------- ------------------------------ 9.6/39.5 MB 5.1 MB/s eta 0:00:06\n",
      "   ---------- ----------------------------- 9.9/39.5 MB 5.1 MB/s eta 0:00:06\n",
      "   ---------- ----------------------------- 10.1/39.5 MB 5.1 MB/s eta 0:00:06\n",
      "   ---------- ----------------------------- 10.4/39.5 MB 5.5 MB/s eta 0:00:06\n",
      "   ---------- ----------------------------- 10.6/39.5 MB 5.6 MB/s eta 0:00:06\n",
      "   ---------- ----------------------------- 10.7/39.5 MB 5.7 MB/s eta 0:00:06\n",
      "   ---------- ----------------------------- 10.7/39.5 MB 5.7 MB/s eta 0:00:06\n",
      "   ---------- ----------------------------- 10.7/39.5 MB 5.4 MB/s eta 0:00:06\n",
      "   ---------- ----------------------------- 10.7/39.5 MB 5.4 MB/s eta 0:00:06\n",
      "   ---------- ----------------------------- 10.7/39.5 MB 5.4 MB/s eta 0:00:06\n",
      "   ----------- ---------------------------- 11.0/39.5 MB 5.1 MB/s eta 0:00:06\n",
      "   ----------- ---------------------------- 11.4/39.5 MB 5.2 MB/s eta 0:00:06\n",
      "   ----------- ---------------------------- 11.4/39.5 MB 5.1 MB/s eta 0:00:06\n",
      "   ----------- ---------------------------- 11.6/39.5 MB 5.0 MB/s eta 0:00:06\n",
      "   ------------ --------------------------- 12.0/39.5 MB 5.0 MB/s eta 0:00:06\n",
      "   ------------ --------------------------- 12.3/39.5 MB 5.0 MB/s eta 0:00:06\n",
      "   ------------ --------------------------- 12.7/39.5 MB 5.0 MB/s eta 0:00:06\n",
      "   ------------- -------------------------- 13.1/39.5 MB 5.0 MB/s eta 0:00:06\n",
      "   ------------- -------------------------- 13.2/39.5 MB 5.0 MB/s eta 0:00:06\n",
      "   ------------- -------------------------- 13.5/39.5 MB 5.0 MB/s eta 0:00:06\n",
      "   -------------- ------------------------- 13.9/39.5 MB 5.0 MB/s eta 0:00:06\n",
      "   -------------- ------------------------- 14.2/39.5 MB 5.1 MB/s eta 0:00:05\n",
      "   -------------- ------------------------- 14.4/39.5 MB 5.0 MB/s eta 0:00:06\n",
      "   -------------- ------------------------- 14.4/39.5 MB 5.0 MB/s eta 0:00:06\n",
      "   -------------- ------------------------- 14.4/39.5 MB 5.0 MB/s eta 0:00:06\n",
      "   -------------- ------------------------- 14.4/39.5 MB 5.0 MB/s eta 0:00:06\n",
      "   -------------- ------------------------- 14.4/39.5 MB 5.0 MB/s eta 0:00:06\n",
      "   --------------- ------------------------ 15.7/39.5 MB 5.0 MB/s eta 0:00:05\n",
      "   ---------------- ----------------------- 16.0/39.5 MB 5.0 MB/s eta 0:00:05\n",
      "   ---------------- ----------------------- 16.1/39.5 MB 5.0 MB/s eta 0:00:05\n",
      "   ---------------- ----------------------- 16.4/39.5 MB 5.0 MB/s eta 0:00:05\n",
      "   ---------------- ----------------------- 16.7/39.5 MB 5.0 MB/s eta 0:00:05\n",
      "   ----------------- ---------------------- 17.0/39.5 MB 5.0 MB/s eta 0:00:05\n",
      "   ----------------- ---------------------- 17.3/39.5 MB 5.0 MB/s eta 0:00:05\n",
      "   ----------------- ---------------------- 17.6/39.5 MB 5.0 MB/s eta 0:00:05\n",
      "   ------------------ --------------------- 17.9/39.5 MB 5.0 MB/s eta 0:00:05\n",
      "   ------------------ --------------------- 18.2/39.5 MB 5.1 MB/s eta 0:00:05\n",
      "   ------------------ --------------------- 18.5/39.5 MB 5.0 MB/s eta 0:00:05\n",
      "   ------------------- -------------------- 18.8/39.5 MB 5.0 MB/s eta 0:00:05\n",
      "   ------------------- -------------------- 19.0/39.5 MB 5.0 MB/s eta 0:00:05\n",
      "   ------------------- -------------------- 19.3/39.5 MB 5.1 MB/s eta 0:00:04\n",
      "   ------------------- -------------------- 19.6/39.5 MB 5.1 MB/s eta 0:00:04\n",
      "   -------------------- ------------------- 19.9/39.5 MB 5.2 MB/s eta 0:00:04\n",
      "   -------------------- ------------------- 20.2/39.5 MB 5.2 MB/s eta 0:00:04\n",
      "   -------------------- ------------------- 20.5/39.5 MB 5.2 MB/s eta 0:00:04\n",
      "   --------------------- ------------------ 20.7/39.5 MB 5.2 MB/s eta 0:00:04\n",
      "   --------------------- ------------------ 21.0/39.5 MB 5.8 MB/s eta 0:00:04\n",
      "   --------------------- ------------------ 21.3/39.5 MB 5.7 MB/s eta 0:00:04\n",
      "   --------------------- ------------------ 21.5/39.5 MB 5.7 MB/s eta 0:00:04\n",
      "   ---------------------- ----------------- 21.8/39.5 MB 5.9 MB/s eta 0:00:04\n",
      "   ---------------------- ----------------- 22.0/39.5 MB 5.8 MB/s eta 0:00:03\n",
      "   ---------------------- ----------------- 22.3/39.5 MB 5.8 MB/s eta 0:00:03\n",
      "   ---------------------- ----------------- 22.6/39.5 MB 5.8 MB/s eta 0:00:03\n",
      "   ----------------------- ---------------- 22.8/39.5 MB 5.7 MB/s eta 0:00:03\n",
      "   ----------------------- ---------------- 23.1/39.5 MB 5.7 MB/s eta 0:00:03\n",
      "   ----------------------- ---------------- 23.3/39.5 MB 5.7 MB/s eta 0:00:03\n",
      "   ----------------------- ---------------- 23.6/39.5 MB 5.6 MB/s eta 0:00:03\n",
      "   ------------------------ --------------- 23.9/39.5 MB 5.7 MB/s eta 0:00:03\n",
      "   ------------------------ --------------- 24.2/39.5 MB 5.6 MB/s eta 0:00:03\n",
      "   ------------------------ --------------- 24.4/39.5 MB 5.6 MB/s eta 0:00:03\n",
      "   ------------------------- -------------- 24.7/39.5 MB 6.3 MB/s eta 0:00:03\n",
      "   ------------------------- -------------- 25.0/39.5 MB 6.1 MB/s eta 0:00:03\n",
      "   ------------------------- -------------- 25.3/39.5 MB 6.0 MB/s eta 0:00:03\n",
      "   ------------------------- -------------- 25.5/39.5 MB 5.8 MB/s eta 0:00:03\n",
      "   -------------------------- ------------- 25.7/39.5 MB 5.6 MB/s eta 0:00:03\n",
      "   -------------------------- ------------- 26.0/39.5 MB 5.6 MB/s eta 0:00:03\n",
      "   -------------------------- ------------- 26.3/39.5 MB 5.6 MB/s eta 0:00:03\n",
      "   -------------------------- ------------- 26.5/39.5 MB 5.6 MB/s eta 0:00:03\n",
      "   --------------------------- ------------ 26.8/39.5 MB 5.7 MB/s eta 0:00:03\n",
      "   --------------------------- ------------ 27.0/39.5 MB 5.6 MB/s eta 0:00:03\n",
      "   --------------------------- ------------ 27.3/39.5 MB 5.6 MB/s eta 0:00:03\n",
      "   --------------------------- ------------ 27.6/39.5 MB 5.6 MB/s eta 0:00:03\n",
      "   ---------------------------- ----------- 27.9/39.5 MB 5.6 MB/s eta 0:00:03\n",
      "   ---------------------------- ----------- 28.1/39.5 MB 5.6 MB/s eta 0:00:03\n",
      "   ---------------------------- ----------- 28.4/39.5 MB 5.6 MB/s eta 0:00:02\n",
      "   ----------------------------- ---------- 28.6/39.5 MB 5.6 MB/s eta 0:00:02\n",
      "   ----------------------------- ---------- 28.9/39.5 MB 5.6 MB/s eta 0:00:02\n",
      "   ----------------------------- ---------- 29.2/39.5 MB 5.6 MB/s eta 0:00:02\n",
      "   ----------------------------- ---------- 29.5/39.5 MB 5.6 MB/s eta 0:00:02\n",
      "   ------------------------------ --------- 29.7/39.5 MB 5.6 MB/s eta 0:00:02\n",
      "   ------------------------------ --------- 30.0/39.5 MB 5.6 MB/s eta 0:00:02\n",
      "   ------------------------------ --------- 30.3/39.5 MB 5.6 MB/s eta 0:00:02\n",
      "   ------------------------------ --------- 30.5/39.5 MB 5.5 MB/s eta 0:00:02\n",
      "   ------------------------------- -------- 30.8/39.5 MB 5.5 MB/s eta 0:00:02\n",
      "   ------------------------------- -------- 31.1/39.5 MB 5.5 MB/s eta 0:00:02\n",
      "   ------------------------------- -------- 31.3/39.5 MB 5.6 MB/s eta 0:00:02\n",
      "   -------------------------------- ------- 31.6/39.5 MB 5.6 MB/s eta 0:00:02\n",
      "   -------------------------------- ------- 31.9/39.5 MB 5.5 MB/s eta 0:00:02\n",
      "   -------------------------------- ------- 32.1/39.5 MB 5.6 MB/s eta 0:00:02\n",
      "   -------------------------------- ------- 32.3/39.5 MB 5.6 MB/s eta 0:00:02\n",
      "   -------------------------------- ------- 32.5/39.5 MB 5.5 MB/s eta 0:00:02\n",
      "   --------------------------------- ------ 32.6/39.5 MB 5.5 MB/s eta 0:00:02\n",
      "   --------------------------------- ------ 32.8/39.5 MB 5.5 MB/s eta 0:00:02\n",
      "   --------------------------------- ------ 33.2/39.5 MB 5.5 MB/s eta 0:00:02\n",
      "   --------------------------------- ------ 33.3/39.5 MB 5.5 MB/s eta 0:00:02\n",
      "   ---------------------------------- ----- 33.6/39.5 MB 5.4 MB/s eta 0:00:02\n",
      "   ---------------------------------- ----- 33.9/39.5 MB 5.4 MB/s eta 0:00:02\n",
      "   ---------------------------------- ----- 34.1/39.5 MB 5.4 MB/s eta 0:00:02\n",
      "   ---------------------------------- ----- 34.4/39.5 MB 5.4 MB/s eta 0:00:01\n",
      "   ----------------------------------- ---- 34.7/39.5 MB 5.4 MB/s eta 0:00:01\n",
      "   ----------------------------------- ---- 34.9/39.5 MB 5.4 MB/s eta 0:00:01\n",
      "   ----------------------------------- ---- 35.1/39.5 MB 5.3 MB/s eta 0:00:01\n",
      "   ----------------------------------- ---- 35.4/39.5 MB 5.3 MB/s eta 0:00:01\n",
      "   ------------------------------------ --- 35.6/39.5 MB 5.3 MB/s eta 0:00:01\n",
      "   ------------------------------------ --- 35.9/39.5 MB 5.4 MB/s eta 0:00:01\n",
      "   ------------------------------------ --- 36.1/39.5 MB 5.3 MB/s eta 0:00:01\n",
      "   ------------------------------------ --- 36.3/39.5 MB 5.3 MB/s eta 0:00:01\n",
      "   ------------------------------------- -- 36.5/39.5 MB 5.3 MB/s eta 0:00:01\n",
      "   ------------------------------------- -- 36.8/39.5 MB 5.3 MB/s eta 0:00:01\n",
      "   ------------------------------------- -- 37.1/39.5 MB 5.3 MB/s eta 0:00:01\n",
      "   ------------------------------------- -- 37.3/39.5 MB 5.3 MB/s eta 0:00:01\n",
      "   -------------------------------------- - 37.6/39.5 MB 5.3 MB/s eta 0:00:01\n",
      "   -------------------------------------- - 37.8/39.5 MB 5.3 MB/s eta 0:00:01\n",
      "   -------------------------------------- - 38.1/39.5 MB 5.3 MB/s eta 0:00:01\n",
      "   -------------------------------------- - 38.3/39.5 MB 5.3 MB/s eta 0:00:01\n",
      "   ---------------------------------------  38.6/39.5 MB 5.3 MB/s eta 0:00:01\n",
      "   ---------------------------------------  38.8/39.5 MB 5.3 MB/s eta 0:00:01\n",
      "   ---------------------------------------  39.1/39.5 MB 5.3 MB/s eta 0:00:01\n",
      "   ---------------------------------------  39.4/39.5 MB 5.3 MB/s eta 0:00:01\n",
      "   ---------------------------------------  39.5/39.5 MB 5.3 MB/s eta 0:00:01\n",
      "   ---------------------------------------  39.5/39.5 MB 5.3 MB/s eta 0:00:01\n",
      "   ---------------------------------------- 39.5/39.5 MB 5.0 MB/s eta 0:00:00\n",
      "Installing collected packages: opencv-python\n",
      "Successfully installed opencv-python-4.11.0.86\n",
      "Note: you may need to restart the kernel to use updated packages.\n"
     ]
    }
   ],
   "source": [
    "pip install opencv-python"
   ]
  },
  {
   "cell_type": "code",
   "execution_count": 1,
   "id": "f2258e29-05d1-4aa8-af41-506d44a51bce",
   "metadata": {},
   "outputs": [],
   "source": [
    "import numpy as np\n",
    "import matplotlib.pylab as plt\n",
    "import os\n",
    "import cv2"
   ]
  },
  {
   "cell_type": "code",
   "execution_count": 41,
   "id": "f97b197c-1e3b-4e99-953c-43576db9dd9d",
   "metadata": {
    "scrolled": true
   },
   "outputs": [
    {
     "name": "stdout",
     "output_type": "stream",
     "text": [
      "Skipping invalid image: C:\\Users\\Samir\\Downloads\\Dataset\\PetImages\\Cat\\10125.jpg\n",
      "Skipping invalid image: C:\\Users\\Samir\\Downloads\\Dataset\\PetImages\\Cat\\10404.jpg\n",
      "Skipping invalid image: C:\\Users\\Samir\\Downloads\\Dataset\\PetImages\\Cat\\10501.jpg\n",
      "Skipping invalid image: C:\\Users\\Samir\\Downloads\\Dataset\\PetImages\\Cat\\10820.jpg\n",
      "Skipping invalid image: C:\\Users\\Samir\\Downloads\\Dataset\\PetImages\\Cat\\11210.jpg\n",
      "Skipping invalid image: C:\\Users\\Samir\\Downloads\\Dataset\\PetImages\\Cat\\11565.jpg\n",
      "Skipping invalid image: C:\\Users\\Samir\\Downloads\\Dataset\\PetImages\\Cat\\11874.jpg\n",
      "Skipping invalid image: C:\\Users\\Samir\\Downloads\\Dataset\\PetImages\\Cat\\11935.jpg\n",
      "Skipping invalid image: C:\\Users\\Samir\\Downloads\\Dataset\\PetImages\\Cat\\140.jpg\n",
      "Skipping invalid image: C:\\Users\\Samir\\Downloads\\Dataset\\PetImages\\Cat\\2663.jpg\n",
      "Skipping invalid image: C:\\Users\\Samir\\Downloads\\Dataset\\PetImages\\Cat\\3300.jpg\n",
      "Skipping invalid image: C:\\Users\\Samir\\Downloads\\Dataset\\PetImages\\Cat\\3491.jpg\n",
      "Skipping invalid image: C:\\Users\\Samir\\Downloads\\Dataset\\PetImages\\Cat\\4833.jpg\n",
      "Skipping invalid image: C:\\Users\\Samir\\Downloads\\Dataset\\PetImages\\Cat\\5553.jpg\n",
      "Skipping invalid image: C:\\Users\\Samir\\Downloads\\Dataset\\PetImages\\Cat\\660.jpg\n",
      "Skipping invalid image: C:\\Users\\Samir\\Downloads\\Dataset\\PetImages\\Cat\\666.jpg\n",
      "Skipping invalid image: C:\\Users\\Samir\\Downloads\\Dataset\\PetImages\\Cat\\7968.jpg\n",
      "Skipping invalid image: C:\\Users\\Samir\\Downloads\\Dataset\\PetImages\\Cat\\7978.jpg\n",
      "Skipping invalid image: C:\\Users\\Samir\\Downloads\\Dataset\\PetImages\\Cat\\8470.jpg\n",
      "Skipping invalid image: C:\\Users\\Samir\\Downloads\\Dataset\\PetImages\\Cat\\850.jpg\n",
      "Skipping invalid image: C:\\Users\\Samir\\Downloads\\Dataset\\PetImages\\Cat\\9171.jpg\n",
      "Skipping invalid image: C:\\Users\\Samir\\Downloads\\Dataset\\PetImages\\Cat\\936.jpg\n",
      "Skipping invalid image: C:\\Users\\Samir\\Downloads\\Dataset\\PetImages\\Cat\\9565.jpg\n",
      "Skipping invalid image: C:\\Users\\Samir\\Downloads\\Dataset\\PetImages\\Cat\\9778.jpg\n",
      "Skipping invalid image: C:\\Users\\Samir\\Downloads\\Dataset\\PetImages\\Cat\\Thumbs.db\n",
      "Skipping invalid image: C:\\Users\\Samir\\Downloads\\Dataset\\PetImages\\Dog\\10158.jpg\n",
      "Skipping invalid image: C:\\Users\\Samir\\Downloads\\Dataset\\PetImages\\Dog\\10401.jpg\n",
      "Skipping invalid image: C:\\Users\\Samir\\Downloads\\Dataset\\PetImages\\Dog\\10747.jpg\n",
      "Skipping invalid image: C:\\Users\\Samir\\Downloads\\Dataset\\PetImages\\Dog\\10797.jpg\n",
      "Skipping invalid image: C:\\Users\\Samir\\Downloads\\Dataset\\PetImages\\Dog\\11410.jpg\n",
      "Skipping invalid image: C:\\Users\\Samir\\Downloads\\Dataset\\PetImages\\Dog\\11675.jpg\n",
      "Skipping invalid image: C:\\Users\\Samir\\Downloads\\Dataset\\PetImages\\Dog\\11702.jpg\n",
      "Skipping invalid image: C:\\Users\\Samir\\Downloads\\Dataset\\PetImages\\Dog\\11849.jpg\n",
      "Skipping invalid image: C:\\Users\\Samir\\Downloads\\Dataset\\PetImages\\Dog\\11853.jpg\n",
      "Skipping invalid image: C:\\Users\\Samir\\Downloads\\Dataset\\PetImages\\Dog\\1308.jpg\n",
      "Skipping invalid image: C:\\Users\\Samir\\Downloads\\Dataset\\PetImages\\Dog\\1866.jpg\n",
      "Skipping invalid image: C:\\Users\\Samir\\Downloads\\Dataset\\PetImages\\Dog\\2384.jpg\n",
      "Skipping invalid image: C:\\Users\\Samir\\Downloads\\Dataset\\PetImages\\Dog\\2688.jpg\n",
      "Skipping invalid image: C:\\Users\\Samir\\Downloads\\Dataset\\PetImages\\Dog\\2877.jpg\n",
      "Skipping invalid image: C:\\Users\\Samir\\Downloads\\Dataset\\PetImages\\Dog\\3136.jpg\n",
      "Skipping invalid image: C:\\Users\\Samir\\Downloads\\Dataset\\PetImages\\Dog\\3288.jpg\n",
      "Skipping invalid image: C:\\Users\\Samir\\Downloads\\Dataset\\PetImages\\Dog\\3588.jpg\n",
      "Skipping invalid image: C:\\Users\\Samir\\Downloads\\Dataset\\PetImages\\Dog\\4367.jpg\n",
      "Skipping invalid image: C:\\Users\\Samir\\Downloads\\Dataset\\PetImages\\Dog\\5604.jpg\n",
      "Skipping invalid image: C:\\Users\\Samir\\Downloads\\Dataset\\PetImages\\Dog\\5736.jpg\n",
      "Skipping invalid image: C:\\Users\\Samir\\Downloads\\Dataset\\PetImages\\Dog\\6059.jpg\n",
      "Skipping invalid image: C:\\Users\\Samir\\Downloads\\Dataset\\PetImages\\Dog\\6238.jpg\n",
      "Skipping invalid image: C:\\Users\\Samir\\Downloads\\Dataset\\PetImages\\Dog\\6718.jpg\n",
      "Skipping invalid image: C:\\Users\\Samir\\Downloads\\Dataset\\PetImages\\Dog\\7112.jpg\n",
      "Skipping invalid image: C:\\Users\\Samir\\Downloads\\Dataset\\PetImages\\Dog\\7133.jpg\n",
      "Skipping invalid image: C:\\Users\\Samir\\Downloads\\Dataset\\PetImages\\Dog\\7369.jpg\n",
      "Skipping invalid image: C:\\Users\\Samir\\Downloads\\Dataset\\PetImages\\Dog\\7459.jpg\n",
      "Skipping invalid image: C:\\Users\\Samir\\Downloads\\Dataset\\PetImages\\Dog\\7969.jpg\n",
      "Skipping invalid image: C:\\Users\\Samir\\Downloads\\Dataset\\PetImages\\Dog\\8730.jpg\n",
      "Skipping invalid image: C:\\Users\\Samir\\Downloads\\Dataset\\PetImages\\Dog\\9188.jpg\n",
      "Skipping invalid image: C:\\Users\\Samir\\Downloads\\Dataset\\PetImages\\Dog\\Thumbs.db\n"
     ]
    }
   ],
   "source": [
    "dataset_path = r\"C:\\Users\\Samir\\Downloads\\Dataset\\PetImages\"\n",
    "categories = [\"Cat\", \"Dog\"]\n",
    "IMG_SIZE = (50,50)\n",
    "\n",
    "data = []\n",
    "for cat in categories:\n",
    "    folder_path = os.path.join(dataset_path, cat)\n",
    "    for img_name in os.listdir(folder_path):\n",
    "        img_path = os.path.join(folder_path, img_name)\n",
    "        try:\n",
    "            img = cv2.imread(img_path, cv2.IMREAD_GRAYSCALE)\n",
    "            if img is None:\n",
    "                print(f\"Skipping invalid image: {img_path}\")\n",
    "                continue\n",
    "            img_resized = cv2.resize(img, IMG_SIZE)\n",
    "            label = 0 if cat == \"Cat\" else 1\n",
    "            data.append((img_resized, label))\n",
    "        except Exception as e:\n",
    "            print(f\"Error processing {img_path}: {e}\")"
   ]
  },
  {
   "cell_type": "code",
   "execution_count": 43,
   "id": "b3ba0714-27ba-4096-a6ab-c07682eb7d9e",
   "metadata": {},
   "outputs": [
    {
     "data": {
      "text/plain": [
       "24946"
      ]
     },
     "execution_count": 43,
     "metadata": {},
     "output_type": "execute_result"
    }
   ],
   "source": [
    "len(data)"
   ]
  },
  {
   "cell_type": "code",
   "execution_count": 45,
   "id": "eaea2bfb-633d-448c-b573-bac305bc9845",
   "metadata": {},
   "outputs": [],
   "source": [
    "import random\n",
    "random.shuffle(data)"
   ]
  },
  {
   "cell_type": "code",
   "execution_count": 118,
   "id": "a1656059-0e1e-4241-a1ee-be3a01779fc0",
   "metadata": {},
   "outputs": [],
   "source": [
    "X = np.array([img for img, _ in data])\n",
    "y = np.array([label for _,label in data])"
   ]
  },
  {
   "cell_type": "code",
   "execution_count": 120,
   "id": "baa2365b-6069-4515-9821-024d491fc604",
   "metadata": {},
   "outputs": [],
   "source": [
    "X = X.reshape(-1, IMG_SIZE[0], IMG_SIZE[1], 1)"
   ]
  },
  {
   "cell_type": "code",
   "execution_count": 122,
   "id": "8618a53a-1a74-4b0c-9570-b7ce36626d76",
   "metadata": {},
   "outputs": [],
   "source": [
    "import pickle\n",
    "pickle_out = open('X.pickle','wb')\n",
    "pickle.dump(X, pickle_out)\n",
    "pickle_out.close()\n",
    "\n",
    "pickle_out = open('y.pickle','wb')\n",
    "pickle.dump(y, pickle_out)\n",
    "pickle_out.close()"
   ]
  },
  {
   "cell_type": "code",
   "execution_count": 124,
   "id": "898f8096-9e58-44d0-9a38-9e44ad24869a",
   "metadata": {},
   "outputs": [],
   "source": [
    "with open('X.pickle', 'rb') as pickle_in:\n",
    "    X = pickle.load(pickle_in)"
   ]
  },
  {
   "cell_type": "code",
   "execution_count": 126,
   "id": "b659c9ed-ab8e-45b0-b797-eca6acfba0fa",
   "metadata": {
    "scrolled": true
   },
   "outputs": [],
   "source": [
    "with open('y.pickle', 'rb') as pickle_in:\n",
    "    y = pickle.load(pickle_in)"
   ]
  },
  {
   "cell_type": "code",
   "execution_count": 128,
   "id": "61ff1372-a288-4a69-821a-83e685ec09f7",
   "metadata": {
    "scrolled": true
   },
   "outputs": [
    {
     "data": {
      "text/plain": [
       "array([[[ 81],\n",
       "        [ 81],\n",
       "        [ 83],\n",
       "        ...,\n",
       "        [ 95],\n",
       "        [ 92],\n",
       "        [ 89]],\n",
       "\n",
       "       [[ 88],\n",
       "        [ 86],\n",
       "        [ 85],\n",
       "        ...,\n",
       "        [ 89],\n",
       "        [ 91],\n",
       "        [ 93]],\n",
       "\n",
       "       [[ 82],\n",
       "        [ 80],\n",
       "        [ 81],\n",
       "        ...,\n",
       "        [106],\n",
       "        [104],\n",
       "        [102]],\n",
       "\n",
       "       ...,\n",
       "\n",
       "       [[141],\n",
       "        [143],\n",
       "        [151],\n",
       "        ...,\n",
       "        [126],\n",
       "        [128],\n",
       "        [129]],\n",
       "\n",
       "       [[155],\n",
       "        [151],\n",
       "        [162],\n",
       "        ...,\n",
       "        [130],\n",
       "        [131],\n",
       "        [134]],\n",
       "\n",
       "       [[168],\n",
       "        [164],\n",
       "        [152],\n",
       "        ...,\n",
       "        [134],\n",
       "        [135],\n",
       "        [136]]], dtype=uint8)"
      ]
     },
     "execution_count": 128,
     "metadata": {},
     "output_type": "execute_result"
    }
   ],
   "source": [
    "X[0]"
   ]
  },
  {
   "cell_type": "code",
   "execution_count": 130,
   "id": "8b65b705-722c-430f-bb64-7ce1dc517828",
   "metadata": {},
   "outputs": [
    {
     "data": {
      "text/plain": [
       "array([1, 0, 1, ..., 0, 0, 0])"
      ]
     },
     "execution_count": 130,
     "metadata": {},
     "output_type": "execute_result"
    }
   ],
   "source": [
    "y"
   ]
  },
  {
   "cell_type": "code",
   "execution_count": null,
   "id": "15b83cdc-751f-457e-817c-d0c8635c22b9",
   "metadata": {},
   "outputs": [],
   "source": []
  }
 ],
 "metadata": {
  "kernelspec": {
   "display_name": "Python 3 (ipykernel)",
   "language": "python",
   "name": "python3"
  },
  "language_info": {
   "codemirror_mode": {
    "name": "ipython",
    "version": 3
   },
   "file_extension": ".py",
   "mimetype": "text/x-python",
   "name": "python",
   "nbconvert_exporter": "python",
   "pygments_lexer": "ipython3",
   "version": "3.12.4"
  }
 },
 "nbformat": 4,
 "nbformat_minor": 5
}
